{
 "cells": [
  {
   "cell_type": "code",
   "execution_count": 3,
   "id": "5f941872",
   "metadata": {},
   "outputs": [],
   "source": [
    "import pandas as pd\n",
    "import numpy as np\n",
    "import matplotlib.pyplot as plt\n",
    "import seaborn as sns"
   ]
  },
  {
   "cell_type": "code",
   "execution_count": 10,
   "id": "5cf7bc9d",
   "metadata": {},
   "outputs": [
    {
     "data": {
      "application/vnd.microsoft.datawrangler.viewer.v0+json": {
       "columns": [
        {
         "name": "index",
         "rawType": "object",
         "type": "string"
        },
        {
         "name": "open",
         "rawType": "float64",
         "type": "float"
        },
        {
         "name": "high",
         "rawType": "float64",
         "type": "float"
        },
        {
         "name": "low",
         "rawType": "float64",
         "type": "float"
        },
        {
         "name": "close",
         "rawType": "float64",
         "type": "float"
        },
        {
         "name": "volume",
         "rawType": "float64",
         "type": "float"
        }
       ],
       "ref": "026979f9-e127-4cb0-9287-934000d6a9ae",
       "rows": [
        [
         "count",
         "375.0",
         "375.0",
         "375.0",
         "375.0",
         "375.0"
        ],
        [
         "mean",
         "25589.913600000003",
         "25598.78",
         "25579.90106666666",
         "25589.306133333335",
         "73096.2"
        ],
        [
         "std",
         "75.65134635232732",
         "75.79224947324045",
         "75.66027432648289",
         "75.10487241635771",
         "66325.50868380713"
        ],
        [
         "min",
         "25418.0",
         "25431.2",
         "25410.0",
         "25418.1",
         "7275.0"
        ],
        [
         "25%",
         "25524.5",
         "25538.0",
         "25514.5",
         "25524.95",
         "29887.5"
        ],
        [
         "50%",
         "25602.7",
         "25610.8",
         "25590.1",
         "25602.0",
         "47700.0"
        ],
        [
         "75%",
         "25643.199999999997",
         "25649.8",
         "25636.800000000003",
         "25642.6",
         "90562.5"
        ],
        [
         "max",
         "25765.0",
         "25792.4",
         "25749.5",
         "25760.2",
         "387900.0"
        ]
       ],
       "shape": {
        "columns": 5,
        "rows": 8
       }
      },
      "text/html": [
       "<div>\n",
       "<style scoped>\n",
       "    .dataframe tbody tr th:only-of-type {\n",
       "        vertical-align: middle;\n",
       "    }\n",
       "\n",
       "    .dataframe tbody tr th {\n",
       "        vertical-align: top;\n",
       "    }\n",
       "\n",
       "    .dataframe thead th {\n",
       "        text-align: right;\n",
       "    }\n",
       "</style>\n",
       "<table border=\"1\" class=\"dataframe\">\n",
       "  <thead>\n",
       "    <tr style=\"text-align: right;\">\n",
       "      <th></th>\n",
       "      <th>open</th>\n",
       "      <th>high</th>\n",
       "      <th>low</th>\n",
       "      <th>close</th>\n",
       "      <th>volume</th>\n",
       "    </tr>\n",
       "  </thead>\n",
       "  <tbody>\n",
       "    <tr>\n",
       "      <th>count</th>\n",
       "      <td>375.000000</td>\n",
       "      <td>375.000000</td>\n",
       "      <td>375.000000</td>\n",
       "      <td>375.000000</td>\n",
       "      <td>375.000000</td>\n",
       "    </tr>\n",
       "    <tr>\n",
       "      <th>mean</th>\n",
       "      <td>25589.913600</td>\n",
       "      <td>25598.780000</td>\n",
       "      <td>25579.901067</td>\n",
       "      <td>25589.306133</td>\n",
       "      <td>73096.200000</td>\n",
       "    </tr>\n",
       "    <tr>\n",
       "      <th>std</th>\n",
       "      <td>75.651346</td>\n",
       "      <td>75.792249</td>\n",
       "      <td>75.660274</td>\n",
       "      <td>75.104872</td>\n",
       "      <td>66325.508684</td>\n",
       "    </tr>\n",
       "    <tr>\n",
       "      <th>min</th>\n",
       "      <td>25418.000000</td>\n",
       "      <td>25431.200000</td>\n",
       "      <td>25410.000000</td>\n",
       "      <td>25418.100000</td>\n",
       "      <td>7275.000000</td>\n",
       "    </tr>\n",
       "    <tr>\n",
       "      <th>25%</th>\n",
       "      <td>25524.500000</td>\n",
       "      <td>25538.000000</td>\n",
       "      <td>25514.500000</td>\n",
       "      <td>25524.950000</td>\n",
       "      <td>29887.500000</td>\n",
       "    </tr>\n",
       "    <tr>\n",
       "      <th>50%</th>\n",
       "      <td>25602.700000</td>\n",
       "      <td>25610.800000</td>\n",
       "      <td>25590.100000</td>\n",
       "      <td>25602.000000</td>\n",
       "      <td>47700.000000</td>\n",
       "    </tr>\n",
       "    <tr>\n",
       "      <th>75%</th>\n",
       "      <td>25643.200000</td>\n",
       "      <td>25649.800000</td>\n",
       "      <td>25636.800000</td>\n",
       "      <td>25642.600000</td>\n",
       "      <td>90562.500000</td>\n",
       "    </tr>\n",
       "    <tr>\n",
       "      <th>max</th>\n",
       "      <td>25765.000000</td>\n",
       "      <td>25792.400000</td>\n",
       "      <td>25749.500000</td>\n",
       "      <td>25760.200000</td>\n",
       "      <td>387900.000000</td>\n",
       "    </tr>\n",
       "  </tbody>\n",
       "</table>\n",
       "</div>"
      ],
      "text/plain": [
       "               open          high           low         close         volume\n",
       "count    375.000000    375.000000    375.000000    375.000000     375.000000\n",
       "mean   25589.913600  25598.780000  25579.901067  25589.306133   73096.200000\n",
       "std       75.651346     75.792249     75.660274     75.104872   66325.508684\n",
       "min    25418.000000  25431.200000  25410.000000  25418.100000    7275.000000\n",
       "25%    25524.500000  25538.000000  25514.500000  25524.950000   29887.500000\n",
       "50%    25602.700000  25610.800000  25590.100000  25602.000000   47700.000000\n",
       "75%    25643.200000  25649.800000  25636.800000  25642.600000   90562.500000\n",
       "max    25765.000000  25792.400000  25749.500000  25760.200000  387900.000000"
      ]
     },
     "execution_count": 10,
     "metadata": {},
     "output_type": "execute_result"
    }
   ],
   "source": [
    "before_js_data = pd.read_csv('Before_Jane_Street_Ban.csv')\n",
    "after_js_data = pd.read_csv('After_Jane_Street_Ban.csv')\n",
    "before_js_df = pd.DataFrame(before_js_data)\n",
    "after_js_df = pd.DataFrame(after_js_data)\n",
    "before_js_df.describe()"
   ]
  },
  {
   "cell_type": "code",
   "execution_count": 11,
   "id": "406e885d",
   "metadata": {},
   "outputs": [
    {
     "data": {
      "application/vnd.microsoft.datawrangler.viewer.v0+json": {
       "columns": [
        {
         "name": "index",
         "rawType": "int64",
         "type": "integer"
        },
        {
         "name": "open",
         "rawType": "float64",
         "type": "float"
        },
        {
         "name": "high",
         "rawType": "float64",
         "type": "float"
        },
        {
         "name": "low",
         "rawType": "float64",
         "type": "float"
        },
        {
         "name": "close",
         "rawType": "float64",
         "type": "float"
        },
        {
         "name": "volume",
         "rawType": "int64",
         "type": "integer"
        },
        {
         "name": "Intraday Gaps",
         "rawType": "float64",
         "type": "float"
        }
       ],
       "ref": "c0c85810-6b9b-466b-9915-8b810fb123f8",
       "rows": [
        [
         "0",
         "25765.0",
         "25792.4",
         "25721.0",
         "25741.0",
         "281250",
         null
        ],
        [
         "1",
         "25736.0",
         "25765.5",
         "25728.4",
         "25760.2",
         "149325",
         null
        ],
        [
         "2",
         "25762.2",
         "25775.0",
         "25749.5",
         "25749.5",
         "121125",
         null
        ],
        [
         "3",
         "25750.0",
         "25750.0",
         "25710.6",
         "25720.0",
         "150075",
         null
        ],
        [
         "4",
         "25718.4",
         "25730.0",
         "25702.6",
         "25715.0",
         "118575",
         null
        ]
       ],
       "shape": {
        "columns": 6,
        "rows": 5
       }
      },
      "text/html": [
       "<div>\n",
       "<style scoped>\n",
       "    .dataframe tbody tr th:only-of-type {\n",
       "        vertical-align: middle;\n",
       "    }\n",
       "\n",
       "    .dataframe tbody tr th {\n",
       "        vertical-align: top;\n",
       "    }\n",
       "\n",
       "    .dataframe thead th {\n",
       "        text-align: right;\n",
       "    }\n",
       "</style>\n",
       "<table border=\"1\" class=\"dataframe\">\n",
       "  <thead>\n",
       "    <tr style=\"text-align: right;\">\n",
       "      <th></th>\n",
       "      <th>open</th>\n",
       "      <th>high</th>\n",
       "      <th>low</th>\n",
       "      <th>close</th>\n",
       "      <th>volume</th>\n",
       "      <th>Intraday Gaps</th>\n",
       "    </tr>\n",
       "  </thead>\n",
       "  <tbody>\n",
       "    <tr>\n",
       "      <th>0</th>\n",
       "      <td>25765.0</td>\n",
       "      <td>25792.4</td>\n",
       "      <td>25721.0</td>\n",
       "      <td>25741.0</td>\n",
       "      <td>281250</td>\n",
       "      <td>NaN</td>\n",
       "    </tr>\n",
       "    <tr>\n",
       "      <th>1</th>\n",
       "      <td>25736.0</td>\n",
       "      <td>25765.5</td>\n",
       "      <td>25728.4</td>\n",
       "      <td>25760.2</td>\n",
       "      <td>149325</td>\n",
       "      <td>NaN</td>\n",
       "    </tr>\n",
       "    <tr>\n",
       "      <th>2</th>\n",
       "      <td>25762.2</td>\n",
       "      <td>25775.0</td>\n",
       "      <td>25749.5</td>\n",
       "      <td>25749.5</td>\n",
       "      <td>121125</td>\n",
       "      <td>NaN</td>\n",
       "    </tr>\n",
       "    <tr>\n",
       "      <th>3</th>\n",
       "      <td>25750.0</td>\n",
       "      <td>25750.0</td>\n",
       "      <td>25710.6</td>\n",
       "      <td>25720.0</td>\n",
       "      <td>150075</td>\n",
       "      <td>NaN</td>\n",
       "    </tr>\n",
       "    <tr>\n",
       "      <th>4</th>\n",
       "      <td>25718.4</td>\n",
       "      <td>25730.0</td>\n",
       "      <td>25702.6</td>\n",
       "      <td>25715.0</td>\n",
       "      <td>118575</td>\n",
       "      <td>NaN</td>\n",
       "    </tr>\n",
       "  </tbody>\n",
       "</table>\n",
       "</div>"
      ],
      "text/plain": [
       "      open     high      low    close  volume  Intraday Gaps\n",
       "0  25765.0  25792.4  25721.0  25741.0  281250            NaN\n",
       "1  25736.0  25765.5  25728.4  25760.2  149325            NaN\n",
       "2  25762.2  25775.0  25749.5  25749.5  121125            NaN\n",
       "3  25750.0  25750.0  25710.6  25720.0  150075            NaN\n",
       "4  25718.4  25730.0  25702.6  25715.0  118575            NaN"
      ]
     },
     "execution_count": 11,
     "metadata": {},
     "output_type": "execute_result"
    }
   ],
   "source": [
    "#Assigning a new column intraday gap and giving default value as NaN\n",
    "before_js_df['Intraday Gaps'] = np.nan\n",
    "after_js_df['Intraday Gaps'] = np.nan\n",
    "before_js_df.head()"
   ]
  },
  {
   "cell_type": "code",
   "execution_count": 16,
   "id": "8a25e588",
   "metadata": {},
   "outputs": [
    {
     "data": {
      "application/vnd.microsoft.datawrangler.viewer.v0+json": {
       "columns": [
        {
         "name": "index",
         "rawType": "int64",
         "type": "integer"
        },
        {
         "name": "open",
         "rawType": "float64",
         "type": "float"
        },
        {
         "name": "high",
         "rawType": "float64",
         "type": "float"
        },
        {
         "name": "low",
         "rawType": "float64",
         "type": "float"
        },
        {
         "name": "close",
         "rawType": "float64",
         "type": "float"
        },
        {
         "name": "volume",
         "rawType": "int64",
         "type": "integer"
        },
        {
         "name": "Intraday Gaps",
         "rawType": "float64",
         "type": "float"
        }
       ],
       "ref": "5c938578-f5eb-46b4-bdf0-58ccf5116277",
       "rows": [
        [
         "0",
         "25528.9",
         "25528.9",
         "25475.7",
         "25520.0",
         "202725",
         null
        ],
        [
         "1",
         "25515.0",
         "25545.0",
         "25512.7",
         "25525.0",
         "170250",
         "5.0"
        ],
        [
         "2",
         "25524.9",
         "25535.0",
         "25508.2",
         "25511.3",
         "80625",
         "0.1"
        ],
        [
         "3",
         "25511.3",
         "25567.6",
         "25509.2",
         "25565.0",
         "138750",
         "0.0"
        ],
        [
         "4",
         "25562.0",
         "25574.8",
         "25554.0",
         "25566.0",
         "102525",
         "3.0"
        ]
       ],
       "shape": {
        "columns": 6,
        "rows": 5
       }
      },
      "text/html": [
       "<div>\n",
       "<style scoped>\n",
       "    .dataframe tbody tr th:only-of-type {\n",
       "        vertical-align: middle;\n",
       "    }\n",
       "\n",
       "    .dataframe tbody tr th {\n",
       "        vertical-align: top;\n",
       "    }\n",
       "\n",
       "    .dataframe thead th {\n",
       "        text-align: right;\n",
       "    }\n",
       "</style>\n",
       "<table border=\"1\" class=\"dataframe\">\n",
       "  <thead>\n",
       "    <tr style=\"text-align: right;\">\n",
       "      <th></th>\n",
       "      <th>open</th>\n",
       "      <th>high</th>\n",
       "      <th>low</th>\n",
       "      <th>close</th>\n",
       "      <th>volume</th>\n",
       "      <th>Intraday Gaps</th>\n",
       "    </tr>\n",
       "  </thead>\n",
       "  <tbody>\n",
       "    <tr>\n",
       "      <th>0</th>\n",
       "      <td>25528.9</td>\n",
       "      <td>25528.9</td>\n",
       "      <td>25475.7</td>\n",
       "      <td>25520.0</td>\n",
       "      <td>202725</td>\n",
       "      <td>NaN</td>\n",
       "    </tr>\n",
       "    <tr>\n",
       "      <th>1</th>\n",
       "      <td>25515.0</td>\n",
       "      <td>25545.0</td>\n",
       "      <td>25512.7</td>\n",
       "      <td>25525.0</td>\n",
       "      <td>170250</td>\n",
       "      <td>5.0</td>\n",
       "    </tr>\n",
       "    <tr>\n",
       "      <th>2</th>\n",
       "      <td>25524.9</td>\n",
       "      <td>25535.0</td>\n",
       "      <td>25508.2</td>\n",
       "      <td>25511.3</td>\n",
       "      <td>80625</td>\n",
       "      <td>0.1</td>\n",
       "    </tr>\n",
       "    <tr>\n",
       "      <th>3</th>\n",
       "      <td>25511.3</td>\n",
       "      <td>25567.6</td>\n",
       "      <td>25509.2</td>\n",
       "      <td>25565.0</td>\n",
       "      <td>138750</td>\n",
       "      <td>0.0</td>\n",
       "    </tr>\n",
       "    <tr>\n",
       "      <th>4</th>\n",
       "      <td>25562.0</td>\n",
       "      <td>25574.8</td>\n",
       "      <td>25554.0</td>\n",
       "      <td>25566.0</td>\n",
       "      <td>102525</td>\n",
       "      <td>3.0</td>\n",
       "    </tr>\n",
       "  </tbody>\n",
       "</table>\n",
       "</div>"
      ],
      "text/plain": [
       "      open     high      low    close  volume  Intraday Gaps\n",
       "0  25528.9  25528.9  25475.7  25520.0  202725            NaN\n",
       "1  25515.0  25545.0  25512.7  25525.0  170250            5.0\n",
       "2  25524.9  25535.0  25508.2  25511.3   80625            0.1\n",
       "3  25511.3  25567.6  25509.2  25565.0  138750            0.0\n",
       "4  25562.0  25574.8  25554.0  25566.0  102525            3.0"
      ]
     },
     "execution_count": 16,
     "metadata": {},
     "output_type": "execute_result"
    }
   ],
   "source": [
    "candles_per_day = 75\n",
    "#Adding intraday gaps in before jane street ban data frame\n",
    "for day in range(len(before_js_df)//candles_per_day):\n",
    "    start_index = day * candles_per_day\n",
    "    end_index = start_index + candles_per_day\n",
    "    day_chunk = before_js_df.iloc[start_index : end_index].copy()\n",
    "    gaps = np.round(np.abs(day_chunk['open'].values[1:] - day_chunk['close'].values[:-1]), 2)\n",
    "    before_js_df.loc[start_index + 1 : end_index -1, 'Intraday Gaps'] = gaps\n",
    "# before_js_df.head()\n",
    "#Adding intraday gaps in after jane street ban data frame\n",
    "for day in range(len(after_js_df)//candles_per_day):\n",
    "    start_index = day * candles_per_day\n",
    "    end_index = start_index + candles_per_day\n",
    "    day_chunk = after_js_df.iloc[start_index : end_index].copy()\n",
    "    gaps = np.round(np.abs(day_chunk['open'].values[1:] - day_chunk['close'].values[:-1]), 2)\n",
    "    after_js_df.loc[start_index + 1 : end_index -1, 'Intraday Gaps'] = gaps\n",
    "after_js_df.head()"
   ]
  },
  {
   "cell_type": "code",
   "execution_count": 17,
   "id": "e97662ba",
   "metadata": {},
   "outputs": [
    {
     "data": {
      "application/vnd.microsoft.datawrangler.viewer.v0+json": {
       "columns": [
        {
         "name": "index",
         "rawType": "object",
         "type": "string"
        },
        {
         "name": "open",
         "rawType": "float64",
         "type": "float"
        },
        {
         "name": "high",
         "rawType": "float64",
         "type": "float"
        },
        {
         "name": "low",
         "rawType": "float64",
         "type": "float"
        },
        {
         "name": "close",
         "rawType": "float64",
         "type": "float"
        },
        {
         "name": "volume",
         "rawType": "float64",
         "type": "float"
        },
        {
         "name": "Intraday Gaps",
         "rawType": "float64",
         "type": "float"
        }
       ],
       "ref": "edd24e30-1754-4ab9-a1d7-2c10df33c00f",
       "rows": [
        [
         "count",
         "375.0",
         "375.0",
         "375.0",
         "375.0",
         "375.0",
         "370.0"
        ],
        [
         "mean",
         "25589.913600000003",
         "25598.78",
         "25579.90106666666",
         "25589.306133333335",
         "73096.2",
         "1.2908108108108107"
        ],
        [
         "std",
         "75.65134635232732",
         "75.79224947324045",
         "75.66027432648289",
         "75.10487241635771",
         "66325.50868380713",
         "1.6320044010953103"
        ],
        [
         "min",
         "25418.0",
         "25431.2",
         "25410.0",
         "25418.1",
         "7275.0",
         "0.0"
        ],
        [
         "25%",
         "25524.5",
         "25538.0",
         "25514.5",
         "25524.95",
         "29887.5",
         "0.0"
        ],
        [
         "50%",
         "25602.7",
         "25610.8",
         "25590.1",
         "25602.0",
         "47700.0",
         "0.6"
        ],
        [
         "75%",
         "25643.199999999997",
         "25649.8",
         "25636.800000000003",
         "25642.6",
         "90562.5",
         "2.1"
        ],
        [
         "max",
         "25765.0",
         "25792.4",
         "25749.5",
         "25760.2",
         "387900.0",
         "11.2"
        ]
       ],
       "shape": {
        "columns": 6,
        "rows": 8
       }
      },
      "text/html": [
       "<div>\n",
       "<style scoped>\n",
       "    .dataframe tbody tr th:only-of-type {\n",
       "        vertical-align: middle;\n",
       "    }\n",
       "\n",
       "    .dataframe tbody tr th {\n",
       "        vertical-align: top;\n",
       "    }\n",
       "\n",
       "    .dataframe thead th {\n",
       "        text-align: right;\n",
       "    }\n",
       "</style>\n",
       "<table border=\"1\" class=\"dataframe\">\n",
       "  <thead>\n",
       "    <tr style=\"text-align: right;\">\n",
       "      <th></th>\n",
       "      <th>open</th>\n",
       "      <th>high</th>\n",
       "      <th>low</th>\n",
       "      <th>close</th>\n",
       "      <th>volume</th>\n",
       "      <th>Intraday Gaps</th>\n",
       "    </tr>\n",
       "  </thead>\n",
       "  <tbody>\n",
       "    <tr>\n",
       "      <th>count</th>\n",
       "      <td>375.000000</td>\n",
       "      <td>375.000000</td>\n",
       "      <td>375.000000</td>\n",
       "      <td>375.000000</td>\n",
       "      <td>375.000000</td>\n",
       "      <td>370.000000</td>\n",
       "    </tr>\n",
       "    <tr>\n",
       "      <th>mean</th>\n",
       "      <td>25589.913600</td>\n",
       "      <td>25598.780000</td>\n",
       "      <td>25579.901067</td>\n",
       "      <td>25589.306133</td>\n",
       "      <td>73096.200000</td>\n",
       "      <td>1.290811</td>\n",
       "    </tr>\n",
       "    <tr>\n",
       "      <th>std</th>\n",
       "      <td>75.651346</td>\n",
       "      <td>75.792249</td>\n",
       "      <td>75.660274</td>\n",
       "      <td>75.104872</td>\n",
       "      <td>66325.508684</td>\n",
       "      <td>1.632004</td>\n",
       "    </tr>\n",
       "    <tr>\n",
       "      <th>min</th>\n",
       "      <td>25418.000000</td>\n",
       "      <td>25431.200000</td>\n",
       "      <td>25410.000000</td>\n",
       "      <td>25418.100000</td>\n",
       "      <td>7275.000000</td>\n",
       "      <td>0.000000</td>\n",
       "    </tr>\n",
       "    <tr>\n",
       "      <th>25%</th>\n",
       "      <td>25524.500000</td>\n",
       "      <td>25538.000000</td>\n",
       "      <td>25514.500000</td>\n",
       "      <td>25524.950000</td>\n",
       "      <td>29887.500000</td>\n",
       "      <td>0.000000</td>\n",
       "    </tr>\n",
       "    <tr>\n",
       "      <th>50%</th>\n",
       "      <td>25602.700000</td>\n",
       "      <td>25610.800000</td>\n",
       "      <td>25590.100000</td>\n",
       "      <td>25602.000000</td>\n",
       "      <td>47700.000000</td>\n",
       "      <td>0.600000</td>\n",
       "    </tr>\n",
       "    <tr>\n",
       "      <th>75%</th>\n",
       "      <td>25643.200000</td>\n",
       "      <td>25649.800000</td>\n",
       "      <td>25636.800000</td>\n",
       "      <td>25642.600000</td>\n",
       "      <td>90562.500000</td>\n",
       "      <td>2.100000</td>\n",
       "    </tr>\n",
       "    <tr>\n",
       "      <th>max</th>\n",
       "      <td>25765.000000</td>\n",
       "      <td>25792.400000</td>\n",
       "      <td>25749.500000</td>\n",
       "      <td>25760.200000</td>\n",
       "      <td>387900.000000</td>\n",
       "      <td>11.200000</td>\n",
       "    </tr>\n",
       "  </tbody>\n",
       "</table>\n",
       "</div>"
      ],
      "text/plain": [
       "               open          high           low         close         volume  \\\n",
       "count    375.000000    375.000000    375.000000    375.000000     375.000000   \n",
       "mean   25589.913600  25598.780000  25579.901067  25589.306133   73096.200000   \n",
       "std       75.651346     75.792249     75.660274     75.104872   66325.508684   \n",
       "min    25418.000000  25431.200000  25410.000000  25418.100000    7275.000000   \n",
       "25%    25524.500000  25538.000000  25514.500000  25524.950000   29887.500000   \n",
       "50%    25602.700000  25610.800000  25590.100000  25602.000000   47700.000000   \n",
       "75%    25643.200000  25649.800000  25636.800000  25642.600000   90562.500000   \n",
       "max    25765.000000  25792.400000  25749.500000  25760.200000  387900.000000   \n",
       "\n",
       "       Intraday Gaps  \n",
       "count     370.000000  \n",
       "mean        1.290811  \n",
       "std         1.632004  \n",
       "min         0.000000  \n",
       "25%         0.000000  \n",
       "50%         0.600000  \n",
       "75%         2.100000  \n",
       "max        11.200000  "
      ]
     },
     "execution_count": 17,
     "metadata": {},
     "output_type": "execute_result"
    }
   ],
   "source": [
    "before_js_df.describe()"
   ]
  },
  {
   "cell_type": "code",
   "execution_count": 18,
   "id": "ec05885b",
   "metadata": {},
   "outputs": [
    {
     "data": {
      "application/vnd.microsoft.datawrangler.viewer.v0+json": {
       "columns": [
        {
         "name": "index",
         "rawType": "object",
         "type": "string"
        },
        {
         "name": "open",
         "rawType": "float64",
         "type": "float"
        },
        {
         "name": "high",
         "rawType": "float64",
         "type": "float"
        },
        {
         "name": "low",
         "rawType": "float64",
         "type": "float"
        },
        {
         "name": "close",
         "rawType": "float64",
         "type": "float"
        },
        {
         "name": "volume",
         "rawType": "float64",
         "type": "float"
        },
        {
         "name": "Intraday Gaps",
         "rawType": "float64",
         "type": "float"
        }
       ],
       "ref": "5ce61031-5fd5-4250-9e88-c90f025b2a64",
       "rows": [
        [
         "count",
         "375.0",
         "375.0",
         "375.0",
         "375.0",
         "375.0",
         "370.0"
        ],
        [
         "mean",
         "25482.710133333334",
         "25490.394666666667",
         "25474.086133333334",
         "25482.012799999997",
         "53709.6",
         "1.1962162162162162"
        ],
        [
         "std",
         "124.32219850624439",
         "124.05678802859393",
         "124.98770450644197",
         "124.9970636934268",
         "53333.11834003012",
         "1.5782521829935339"
        ],
        [
         "min",
         "25214.5",
         "25218.0",
         "25205.0",
         "25208.0",
         "4500.0",
         "0.0"
        ],
        [
         "25%",
         "25446.65",
         "25455.45",
         "25436.8",
         "25445.05",
         "19462.5",
         "0.0"
        ],
        [
         "50%",
         "25530.0",
         "25537.8",
         "25523.3",
         "25530.5",
         "36000.0",
         "0.4"
        ],
        [
         "75%",
         "25560.05",
         "25567.5",
         "25550.5",
         "25560.0",
         "67837.5",
         "2.0"
        ],
        [
         "max",
         "25640.8",
         "25646.0",
         "25634.1",
         "25637.8",
         "408825.0",
         "6.7"
        ]
       ],
       "shape": {
        "columns": 6,
        "rows": 8
       }
      },
      "text/html": [
       "<div>\n",
       "<style scoped>\n",
       "    .dataframe tbody tr th:only-of-type {\n",
       "        vertical-align: middle;\n",
       "    }\n",
       "\n",
       "    .dataframe tbody tr th {\n",
       "        vertical-align: top;\n",
       "    }\n",
       "\n",
       "    .dataframe thead th {\n",
       "        text-align: right;\n",
       "    }\n",
       "</style>\n",
       "<table border=\"1\" class=\"dataframe\">\n",
       "  <thead>\n",
       "    <tr style=\"text-align: right;\">\n",
       "      <th></th>\n",
       "      <th>open</th>\n",
       "      <th>high</th>\n",
       "      <th>low</th>\n",
       "      <th>close</th>\n",
       "      <th>volume</th>\n",
       "      <th>Intraday Gaps</th>\n",
       "    </tr>\n",
       "  </thead>\n",
       "  <tbody>\n",
       "    <tr>\n",
       "      <th>count</th>\n",
       "      <td>375.000000</td>\n",
       "      <td>375.000000</td>\n",
       "      <td>375.000000</td>\n",
       "      <td>375.000000</td>\n",
       "      <td>375.00000</td>\n",
       "      <td>370.000000</td>\n",
       "    </tr>\n",
       "    <tr>\n",
       "      <th>mean</th>\n",
       "      <td>25482.710133</td>\n",
       "      <td>25490.394667</td>\n",
       "      <td>25474.086133</td>\n",
       "      <td>25482.012800</td>\n",
       "      <td>53709.60000</td>\n",
       "      <td>1.196216</td>\n",
       "    </tr>\n",
       "    <tr>\n",
       "      <th>std</th>\n",
       "      <td>124.322199</td>\n",
       "      <td>124.056788</td>\n",
       "      <td>124.987705</td>\n",
       "      <td>124.997064</td>\n",
       "      <td>53333.11834</td>\n",
       "      <td>1.578252</td>\n",
       "    </tr>\n",
       "    <tr>\n",
       "      <th>min</th>\n",
       "      <td>25214.500000</td>\n",
       "      <td>25218.000000</td>\n",
       "      <td>25205.000000</td>\n",
       "      <td>25208.000000</td>\n",
       "      <td>4500.00000</td>\n",
       "      <td>0.000000</td>\n",
       "    </tr>\n",
       "    <tr>\n",
       "      <th>25%</th>\n",
       "      <td>25446.650000</td>\n",
       "      <td>25455.450000</td>\n",
       "      <td>25436.800000</td>\n",
       "      <td>25445.050000</td>\n",
       "      <td>19462.50000</td>\n",
       "      <td>0.000000</td>\n",
       "    </tr>\n",
       "    <tr>\n",
       "      <th>50%</th>\n",
       "      <td>25530.000000</td>\n",
       "      <td>25537.800000</td>\n",
       "      <td>25523.300000</td>\n",
       "      <td>25530.500000</td>\n",
       "      <td>36000.00000</td>\n",
       "      <td>0.400000</td>\n",
       "    </tr>\n",
       "    <tr>\n",
       "      <th>75%</th>\n",
       "      <td>25560.050000</td>\n",
       "      <td>25567.500000</td>\n",
       "      <td>25550.500000</td>\n",
       "      <td>25560.000000</td>\n",
       "      <td>67837.50000</td>\n",
       "      <td>2.000000</td>\n",
       "    </tr>\n",
       "    <tr>\n",
       "      <th>max</th>\n",
       "      <td>25640.800000</td>\n",
       "      <td>25646.000000</td>\n",
       "      <td>25634.100000</td>\n",
       "      <td>25637.800000</td>\n",
       "      <td>408825.00000</td>\n",
       "      <td>6.700000</td>\n",
       "    </tr>\n",
       "  </tbody>\n",
       "</table>\n",
       "</div>"
      ],
      "text/plain": [
       "               open          high           low         close        volume  \\\n",
       "count    375.000000    375.000000    375.000000    375.000000     375.00000   \n",
       "mean   25482.710133  25490.394667  25474.086133  25482.012800   53709.60000   \n",
       "std      124.322199    124.056788    124.987705    124.997064   53333.11834   \n",
       "min    25214.500000  25218.000000  25205.000000  25208.000000    4500.00000   \n",
       "25%    25446.650000  25455.450000  25436.800000  25445.050000   19462.50000   \n",
       "50%    25530.000000  25537.800000  25523.300000  25530.500000   36000.00000   \n",
       "75%    25560.050000  25567.500000  25550.500000  25560.000000   67837.50000   \n",
       "max    25640.800000  25646.000000  25634.100000  25637.800000  408825.00000   \n",
       "\n",
       "       Intraday Gaps  \n",
       "count     370.000000  \n",
       "mean        1.196216  \n",
       "std         1.578252  \n",
       "min         0.000000  \n",
       "25%         0.000000  \n",
       "50%         0.400000  \n",
       "75%         2.000000  \n",
       "max         6.700000  "
      ]
     },
     "execution_count": 18,
     "metadata": {},
     "output_type": "execute_result"
    }
   ],
   "source": [
    "after_js_df.describe()"
   ]
  },
  {
   "cell_type": "code",
   "execution_count": 23,
   "id": "37a67234",
   "metadata": {},
   "outputs": [
    {
     "data": {
      "application/vnd.microsoft.datawrangler.viewer.v0+json": {
       "columns": [
        {
         "name": "index",
         "rawType": "int64",
         "type": "integer"
        },
        {
         "name": "Gap Values",
         "rawType": "float64",
         "type": "float"
        },
        {
         "name": "Gap Category",
         "rawType": "object",
         "type": "string"
        }
       ],
       "ref": "fbc9a4fb-0a2c-40d8-ba79-5fe9728d1b4b",
       "rows": [
        [
         "1",
         "5.0",
         ">=2"
        ],
        [
         "2",
         "0.1",
         "0.1 - 0.5"
        ],
        [
         "3",
         "0.0",
         "<0.1"
        ],
        [
         "4",
         "3.0",
         ">=2"
        ],
        [
         "5",
         "0.0",
         "<0.1"
        ]
       ],
       "shape": {
        "columns": 2,
        "rows": 5
       }
      },
      "text/html": [
       "<div>\n",
       "<style scoped>\n",
       "    .dataframe tbody tr th:only-of-type {\n",
       "        vertical-align: middle;\n",
       "    }\n",
       "\n",
       "    .dataframe tbody tr th {\n",
       "        vertical-align: top;\n",
       "    }\n",
       "\n",
       "    .dataframe thead th {\n",
       "        text-align: right;\n",
       "    }\n",
       "</style>\n",
       "<table border=\"1\" class=\"dataframe\">\n",
       "  <thead>\n",
       "    <tr style=\"text-align: right;\">\n",
       "      <th></th>\n",
       "      <th>Gap Values</th>\n",
       "      <th>Gap Category</th>\n",
       "    </tr>\n",
       "  </thead>\n",
       "  <tbody>\n",
       "    <tr>\n",
       "      <th>1</th>\n",
       "      <td>5.0</td>\n",
       "      <td>&gt;=2</td>\n",
       "    </tr>\n",
       "    <tr>\n",
       "      <th>2</th>\n",
       "      <td>0.1</td>\n",
       "      <td>0.1 - 0.5</td>\n",
       "    </tr>\n",
       "    <tr>\n",
       "      <th>3</th>\n",
       "      <td>0.0</td>\n",
       "      <td>&lt;0.1</td>\n",
       "    </tr>\n",
       "    <tr>\n",
       "      <th>4</th>\n",
       "      <td>3.0</td>\n",
       "      <td>&gt;=2</td>\n",
       "    </tr>\n",
       "    <tr>\n",
       "      <th>5</th>\n",
       "      <td>0.0</td>\n",
       "      <td>&lt;0.1</td>\n",
       "    </tr>\n",
       "  </tbody>\n",
       "</table>\n",
       "</div>"
      ],
      "text/plain": [
       "   Gap Values Gap Category\n",
       "1         5.0          >=2\n",
       "2         0.1    0.1 - 0.5\n",
       "3         0.0         <0.1\n",
       "4         3.0          >=2\n",
       "5         0.0         <0.1"
      ]
     },
     "execution_count": 23,
     "metadata": {},
     "output_type": "execute_result"
    }
   ],
   "source": [
    "before_gap_values = before_js_df['Intraday Gaps'].dropna()\n",
    "after_gap_values = after_js_df['Intraday Gaps'].dropna()\n",
    "def categorize_gaps(gap):\n",
    "    if gap < 0.1:\n",
    "        return '<0.1'\n",
    "    elif gap < 0.5:\n",
    "        return '0.1 - 0.5'\n",
    "    elif gap < 1:\n",
    "        return '0.5 - 1'\n",
    "    elif gap < 2:\n",
    "        return '1 - 2'\n",
    "    else:\n",
    "        return '>=2'\n",
    "before_gaps_df = pd.DataFrame({\n",
    "    'Gap Values': before_gap_values,\n",
    "    'Gap Category': before_gap_values.apply(categorize_gaps)\n",
    "})\n",
    "after_gaps_df = pd.DataFrame({\n",
    "    'Gap Values': after_gap_values,\n",
    "    'Gap Category': after_gap_values.apply(categorize_gaps)\n",
    "})\n",
    "after_gaps_df.head()"
   ]
  },
  {
   "cell_type": "code",
   "execution_count": 24,
   "id": "1f13e31e",
   "metadata": {},
   "outputs": [
    {
     "data": {
      "image/png": "[encoded data removed]",
      "text/plain": [
       "<Figure size 800x500 with 1 Axes>"
      ]
     },
     "metadata": {},
     "output_type": "display_data"
    }
   ],
   "source": [
    "# Count gap categories\n",
    "category_counts = before_gaps_df['Gap Category'].value_counts().sort_index()\n",
    "\n",
    "# Plot\n",
    "plt.figure(figsize=(8, 5))\n",
    "category_counts.plot(kind='bar', color='skyblue', edgecolor='black')\n",
    "\n",
    "plt.title('Intraday Gap Category Distribution')\n",
    "plt.xlabel('Gap Category')\n",
    "plt.ylabel('Number of Occurrences')\n",
    "plt.grid(axis='y', linestyle='--', alpha=0.7)\n",
    "plt.xticks(rotation=0)\n",
    "plt.tight_layout()\n",
    "plt.show()"
   ]
  },
  {
   "cell_type": "code",
   "execution_count": 27,
   "id": "a355c20c",
   "metadata": {},
   "outputs": [
    {
     "data": {
      "image/png": "[encoded data removed]",
      "text/plain": [
       "<Figure size 800x500 with 1 Axes>"
      ]
     },
     "metadata": {},
     "output_type": "display_data"
    }
   ],
   "source": [
    "# Count gap categories\n",
    "category_counts = after_gaps_df['Gap Category'].value_counts().sort_index()\n",
    "\n",
    "# Plot\n",
    "plt.figure(figsize=(8, 5))\n",
    "category_counts.plot(kind='bar', color='skyblue', edgecolor='black')\n",
    "\n",
    "plt.title('Intraday Gap Category Distribution')\n",
    "plt.xlabel('Gap Category')\n",
    "plt.ylabel('Number of Occurrences')\n",
    "plt.grid(axis='y', linestyle='--', alpha=0.7)\n",
    "plt.xticks(rotation=0)\n",
    "plt.tight_layout()\n",
    "plt.show()"
   ]
  },
  {
   "cell_type": "code",
   "execution_count": 29,
   "id": "3a1153f8",
   "metadata": {},
   "outputs": [
    {
     "name": "stdout",
     "output_type": "stream",
     "text": [
      "212\n"
     ]
    }
   ],
   "source": [
    "print((after_gaps_df['Gap Values']>0.1).sum())"
   ]
  },
  {
   "cell_type": "code",
   "execution_count": null,
   "id": "edaecdd7",
   "metadata": {},
   "outputs": [],
   "source": []
  }
 ],
 "metadata": {
  "kernelspec": {
   "display_name": "myvenv",
   "language": "python",
   "name": "python3"
  },
  "language_info": {
   "codemirror_mode": {
    "name": "ipython",
    "version": 3
   },
   "file_extension": ".py",
   "mimetype": "text/x-python",
   "name": "python",
   "nbconvert_exporter": "python",
   "pygments_lexer": "ipython3",
   "version": "3.13.2"
  }
 },
 "nbformat": 4,
 "nbformat_minor": 5
}
